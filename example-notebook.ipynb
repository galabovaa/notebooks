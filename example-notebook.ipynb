{
 "cells": [
  {
   "attachments": {},
   "cell_type": "markdown",
   "id": "f2eb11df",
   "metadata": {},
   "source": [
    "This is an example of how to use HiGHS via highspy. If highspy is not already installed, run "
   ]
  },
  {
   "cell_type": "code",
   "execution_count": null,
   "id": "410db17e",
   "metadata": {},
   "outputs": [],
   "source": [
    "pip install highspy"
   ]
  },
  {
   "attachments": {},
   "cell_type": "markdown",
   "id": "bfcc0c9c",
   "metadata": {},
   "source": [
    "The following example demonstrates solving a simple problem."
   ]
  },
  {
   "cell_type": "code",
   "execution_count": null,
   "id": "87488524",
   "metadata": {},
   "outputs": [],
   "source": [
    "import highspy\n",
    "import numpy as np\n",
    "\n",
    "# Highs h\n",
    "h = highspy.Highs()\n",
    "\n",
    "# Set up problem\n",
    "inf = highspy.kHighsInf\n",
    "h.addVars(2, np.array([-inf, -inf]), np.array([inf, inf]))\n",
    "h.changeColsCost(2, np.array([0, 1]), np.array([0, 1], dtype=np.double))\n",
    "num_cons = 2\n",
    "lower = np.array([2, 0], dtype=np.double)\n",
    "upper = np.array([inf, inf], dtype=np.double)\n",
    "num_new_nz = 4\n",
    "starts = np.array([0, 2])\n",
    "indices = np.array([0, 1, 0, 1])\n",
    "values = np.array([-1, 1, 1, 1], dtype=np.double)\n",
    "h.addRows(num_cons, lower, upper, num_new_nz, starts, indices, values)\n",
    "\n",
    "# Access LP \n",
    "lp = h.getLp()\n",
    "num_nz = h.getNumNz()\n",
    "print('LP has ', lp.num_col_, ' columns', lp.num_row_, ' rows and ', num_nz, ' nonzeros')\n",
    "\n",
    "# Solve problem\n",
    "h.run()\n",
    "\n",
    "# Print solution information \n",
    "solution = h.getSolution()\n",
    "basis = h.getBasis()\n",
    "info = h.getInfo()\n",
    "model_status = h.getModelStatus()\n",
    "print('Model status = ', h.modelStatusToString(model_status))\n",
    "print()\n",
    "print('Optimal objective = ', info.objective_function_value)\n",
    "print('Iteration count = ', info.simplex_iteration_count)\n",
    "print('Primal solution status = ', h.solutionStatusToString(info.primal_solution_status))\n",
    "print('Dual solution status = ', h.solutionStatusToString(info.dual_solution_status))\n",
    "print('Basis validity = ', h.basisValidityToString(info.basis_validity))\n"
   ]
  }
 ],
 "metadata": {
  "kernelspec": {
   "display_name": "Python 3",
   "language": "python",
   "name": "python3"
  },
  "language_info": {
   "codemirror_mode": {
    "name": "ipython",
    "version": 3
   },
   "file_extension": ".py",
   "mimetype": "text/x-python",
   "name": "python",
   "nbconvert_exporter": "python",
   "pygments_lexer": "ipython3",
   "version": "3.11.1"
  },
  "vscode": {
   "interpreter": {
    "hash": "5c7b89af1651d0b8571dde13640ecdccf7d5a6204171d6ab33e7c296e100e08a"
   }
  }
 },
 "nbformat": 4,
 "nbformat_minor": 5
}

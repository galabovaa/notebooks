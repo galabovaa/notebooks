{
 "cells": [
  {
   "attachments": {},
   "cell_type": "markdown",
   "id": "f2eb11df",
   "metadata": {},
   "source": [
    "This is an example of how to use HiGHS via highspy. If highspy is not already installed, run "
   ]
  },
  {
   "cell_type": "code",
   "execution_count": 1,
   "id": "410db17e",
   "metadata": {},
   "outputs": [
    {
     "name": "stdout",
     "output_type": "stream",
     "text": [
      "Collecting highspy\n",
      "  Downloading highspy-1.5.0.dev0-cp311-cp311-macosx_11_0_arm64.whl (1.6 MB)\n",
      "\u001b[2K     \u001b[90m━━━━━━━━━━━━━━━━━━━━━━━━━━━━━━━━━━━━━━━━\u001b[0m \u001b[32m1.6/1.6 MB\u001b[0m \u001b[31m2.1 MB/s\u001b[0m eta \u001b[36m0:00:00\u001b[0m00:01\u001b[0m00:01\u001b[0m\n",
      "\u001b[?25hCollecting pybind11\n",
      "  Using cached pybind11-2.10.3-py3-none-any.whl (222 kB)\n",
      "Requirement already satisfied: numpy in /opt/homebrew/lib/python3.11/site-packages (from highspy) (1.24.1)\n",
      "Collecting pyomo\n",
      "  Downloading Pyomo-6.4.4-cp311-cp311-macosx_10_9_universal2.whl (6.2 MB)\n",
      "\u001b[2K     \u001b[90m━━━━━━━━━━━━━━━━━━━━━━━━━━━━━━━━━━━━━━━━\u001b[0m \u001b[32m6.2/6.2 MB\u001b[0m \u001b[31m1.6 MB/s\u001b[0m eta \u001b[36m0:00:00\u001b[0m00:01\u001b[0m00:01\u001b[0mm\n",
      "\u001b[?25hCollecting ply\n",
      "  Using cached ply-3.11-py2.py3-none-any.whl (49 kB)\n",
      "Installing collected packages: ply, pyomo, pybind11, highspy\n",
      "Successfully installed highspy-1.5.0.dev0 ply-3.11 pybind11-2.10.3 pyomo-6.4.4\n",
      "\n",
      "\u001b[1m[\u001b[0m\u001b[34;49mnotice\u001b[0m\u001b[1;39;49m]\u001b[0m\u001b[39;49m A new release of pip available: \u001b[0m\u001b[31;49m22.3.1\u001b[0m\u001b[39;49m -> \u001b[0m\u001b[32;49m23.0\u001b[0m\n",
      "\u001b[1m[\u001b[0m\u001b[34;49mnotice\u001b[0m\u001b[1;39;49m]\u001b[0m\u001b[39;49m To update, run: \u001b[0m\u001b[32;49mpython3.11 -m pip install --upgrade pip\u001b[0m\n",
      "Note: you may need to restart the kernel to use updated packages.\n"
     ]
    }
   ],
   "source": [
    "pip install highspy"
   ]
  },
  {
   "attachments": {},
   "cell_type": "markdown",
   "id": "bfcc0c9c",
   "metadata": {},
   "source": [
    "The following example demonstrates solving a simple problem."
   ]
  },
  {
   "cell_type": "code",
   "execution_count": 3,
   "id": "87488524",
   "metadata": {},
   "outputs": [
    {
     "name": "stdout",
     "output_type": "stream",
     "text": [
      "LP has Running HiGHS 1.5.0 [date: 2022-12-15, git hash: 5977e7a65]\n",
      "Copyright (c) 2022 HiGHS under MIT licence terms\n",
      " 2  columns 2  rows and  4  nonzeros\n",
      "Model status =  Optimal\n",
      "\n",
      "Optimal objective =  1.0\n",
      "Iteration count =  0\n",
      "Primal solution status =  Feasible\n",
      "Dual solution status =  Feasible\n",
      "Basis validity =  Valid\n",
      "Presolving model\n",
      "2 rows, 2 cols, 4 nonzeros\n",
      "0 rows, 0 cols, 0 nonzeros\n",
      "0 rows, 0 cols, 0 nonzeros\n",
      "Presolve : Reductions: rows 0(-2); columns 0(-2); elements 0(-4) - Reduced to empty\n",
      "Solving the original LP from the solution after postsolve\n",
      "Model   status      : Optimal\n",
      "Objective value     :  1.0000000000e+00\n",
      "HiGHS run time      :          0.00\n"
     ]
    }
   ],
   "source": [
    "import highspy\n",
    "import numpy as np\n",
    "\n",
    "# Highs h\n",
    "h = highspy.Highs()\n",
    "\n",
    "# Set up problem\n",
    "inf = highspy.kHighsInf\n",
    "h.addVars(2, np.array([-inf, -inf]), np.array([inf, inf]))\n",
    "h.changeColsCost(2, np.array([0, 1]), np.array([0, 1], dtype=np.double))\n",
    "num_cons = 2\n",
    "lower = np.array([2, 0], dtype=np.double)\n",
    "upper = np.array([inf, inf], dtype=np.double)\n",
    "num_new_nz = 4\n",
    "starts = np.array([0, 2])\n",
    "indices = np.array([0, 1, 0, 1])\n",
    "values = np.array([-1, 1, 1, 1], dtype=np.double)\n",
    "h.addRows(num_cons, lower, upper, num_new_nz, starts, indices, values)\n",
    "\n",
    "# Access LP \n",
    "lp = h.getLp()\n",
    "num_nz = h.getNumNz()\n",
    "print('LP has ', lp.num_col_, ' columns', lp.num_row_, ' rows and ', num_nz, ' nonzeros')\n",
    "\n",
    "# Solve problem\n",
    "h.run()\n",
    "\n",
    "# Print solution information \n",
    "solution = h.getSolution()\n",
    "basis = h.getBasis()\n",
    "info = h.getInfo()\n",
    "model_status = h.getModelStatus()\n",
    "print('Model status = ', h.modelStatusToString(model_status))\n",
    "print()\n",
    "print('Optimal objective = ', info.objective_function_value)\n",
    "print('Iteration count = ', info.simplex_iteration_count)\n",
    "print('Primal solution status = ', h.solutionStatusToString(info.primal_solution_status))\n",
    "print('Dual solution status = ', h.solutionStatusToString(info.dual_solution_status))\n",
    "print('Basis validity = ', h.basisValidityToString(info.basis_validity))\n"
   ]
  },
  {
   "cell_type": "code",
   "execution_count": null,
   "id": "35e000ff",
   "metadata": {},
   "outputs": [],
   "source": []
  }
 ],
 "metadata": {
  "kernelspec": {
   "display_name": "Python 3",
   "language": "python",
   "name": "python3"
  },
  "language_info": {
   "codemirror_mode": {
    "name": "ipython",
    "version": 3
   },
   "file_extension": ".py",
   "mimetype": "text/x-python",
   "name": "python",
   "nbconvert_exporter": "python",
   "pygments_lexer": "ipython3",
   "version": "3.11.1"
  },
  "vscode": {
   "interpreter": {
    "hash": "5c7b89af1651d0b8571dde13640ecdccf7d5a6204171d6ab33e7c296e100e08a"
   }
  }
 },
 "nbformat": 4,
 "nbformat_minor": 5
}

{
 "cells": [
  {
   "attachments": {},
   "cell_type": "markdown",
   "metadata": {},
   "source": [
    "For problems defined in an mps file first define the path."
   ]
  },
  {
   "cell_type": "code",
   "execution_count": null,
   "metadata": {},
   "outputs": [],
   "source": [
    "dataset_dir = '/Users/ivet/code/HiGHS/check/instances/'\n",
    "problem = \"25fv47.mps\"\n",
    "\n",
    "path = dataset_dir + \"/\" + problem\n",
    "print(path)"
   ]
  },
  {
   "attachments": {},
   "cell_type": "markdown",
   "metadata": {},
   "source": [
    "Then solve."
   ]
  },
  {
   "cell_type": "code",
   "execution_count": null,
   "metadata": {},
   "outputs": [],
   "source": [
    "import highspy\n",
    "import numpy as np\n",
    "\n",
    "h = highspy.Highs()\n",
    "\n",
    "h.readModel(path)\n",
    "\n",
    "# Solve problem\n",
    "h.run()\n",
    "\n",
    "# Print solution information \n",
    "solution = h.getSolution()\n",
    "basis = h.getBasis()\n",
    "info = h.getInfo()\n",
    "model_status = h.getModelStatus()\n",
    "print('Model status = ', h.modelStatusToString(model_status))\n",
    "print()\n",
    "print('Optimal objective = ', info.objective_function_value)\n",
    "print('Iteration count = ', info.simplex_iteration_count)\n",
    "print('Primal solution status = ', h.solutionStatusToString(info.primal_solution_status))\n",
    "print('Dual solution status = ', h.solutionStatusToString(info.dual_solution_status))\n",
    "print('Basis validity = ', h.basisValidityToString(info.basis_validity))\n"
   ]
  }
 ],
 "metadata": {
  "kernelspec": {
   "display_name": "Python 3",
   "language": "python",
   "name": "python3"
  },
  "language_info": {
   "codemirror_mode": {
    "name": "ipython",
    "version": 3
   },
   "file_extension": ".py",
   "mimetype": "text/x-python",
   "name": "python",
   "nbconvert_exporter": "python",
   "pygments_lexer": "ipython3",
   "version": "3.11.1"
  },
  "orig_nbformat": 4,
  "vscode": {
   "interpreter": {
    "hash": "5c7b89af1651d0b8571dde13640ecdccf7d5a6204171d6ab33e7c296e100e08a"
   }
  }
 },
 "nbformat": 4,
 "nbformat_minor": 2
}

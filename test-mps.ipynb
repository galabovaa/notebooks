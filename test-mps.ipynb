{
 "cells": [
  {
   "attachments": {},
   "cell_type": "markdown",
   "metadata": {},
   "source": [
    "For problems defined in an mps file first define the path."
   ]
  },
  {
   "cell_type": "code",
   "execution_count": 6,
   "metadata": {},
   "outputs": [
    {
     "name": "stdout",
     "output_type": "stream",
     "text": [
      "/Users/ivet/code/HiGHS/check/instances//25fv47.mps\n"
     ]
    }
   ],
   "source": [
    "dataset_dir = '/Users/ivet/code/HiGHS/check/instances/'\n",
    "problem = \"25fv47.mps\"\n",
    "\n",
    "path = dataset_dir + \"/\" + problem\n",
    "print(path)"
   ]
  },
  {
   "attachments": {},
   "cell_type": "markdown",
   "metadata": {},
   "source": [
    "Then solve."
   ]
  },
  {
   "cell_type": "code",
   "execution_count": 7,
   "metadata": {},
   "outputs": [
    {
     "name": "stdout",
     "output_type": "stream",
     "text": [
      "Running HiGHS 1.5.0 [date: 2022-12-15, git hash: 5977e7a65]\n",
      "Copyright (c) 2022 HiGHS under MIT licence terms\n",
      "Model status =  Optimal\n",
      "\n",
      "Optimal objective =  5501.845888286754\n",
      "Iteration count =  2583\n",
      "Primal solution status =  Feasible\n",
      "Dual solution status =  Feasible\n",
      "Basis validity =  Valid\n",
      "Presolving model\n",
      "723 rows, 1490 cols, 10097 nonzeros\n",
      "673 rows, 1439 cols, 9926 nonzeros\n",
      "Presolve : Reductions: rows 673(-148); columns 1439(-132); elements 9926(-474)\n",
      "Solving the presolved LP\n",
      "Using EKK dual simplex solver - serial\n",
      "  Iteration        Objective     Infeasibilities num(sum)\n",
      "          0    -1.1311156094e+02 Ph1: 95(426.55); Du: 36(113.112) 0s\n",
      "       2583     5.5018458883e+03 Pr: 0(0); Du: 0(1.02363e-13) 0s\n",
      "       2583     5.5018458883e+03 Pr: 0(0); Du: 0(1.02363e-13) 0s\n",
      "Solving the original LP from the solution after postsolve\n",
      "Model   status      : Optimal\n",
      "Simplex   iterations: 2583\n",
      "Objective value     :  5.5018458883e+03\n",
      "HiGHS run time      :          0.10\n"
     ]
    }
   ],
   "source": [
    "h = highspy.Highs()\n",
    "\n",
    "h.readModel(path)\n",
    "\n",
    "# Solve problem\n",
    "h.run()\n",
    "\n",
    "# Print solution information \n",
    "solution = h.getSolution()\n",
    "basis = h.getBasis()\n",
    "info = h.getInfo()\n",
    "model_status = h.getModelStatus()\n",
    "print('Model status = ', h.modelStatusToString(model_status))\n",
    "print()\n",
    "print('Optimal objective = ', info.objective_function_value)\n",
    "print('Iteration count = ', info.simplex_iteration_count)\n",
    "print('Primal solution status = ', h.solutionStatusToString(info.primal_solution_status))\n",
    "print('Dual solution status = ', h.solutionStatusToString(info.dual_solution_status))\n",
    "print('Basis validity = ', h.basisValidityToString(info.basis_validity))\n"
   ]
  }
 ],
 "metadata": {
  "kernelspec": {
   "display_name": "Python 3",
   "language": "python",
   "name": "python3"
  },
  "language_info": {
   "codemirror_mode": {
    "name": "ipython",
    "version": 3
   },
   "file_extension": ".py",
   "mimetype": "text/x-python",
   "name": "python",
   "nbconvert_exporter": "python",
   "pygments_lexer": "ipython3",
   "version": "3.11.1"
  },
  "orig_nbformat": 4,
  "vscode": {
   "interpreter": {
    "hash": "5c7b89af1651d0b8571dde13640ecdccf7d5a6204171d6ab33e7c296e100e08a"
   }
  }
 },
 "nbformat": 4,
 "nbformat_minor": 2
}
